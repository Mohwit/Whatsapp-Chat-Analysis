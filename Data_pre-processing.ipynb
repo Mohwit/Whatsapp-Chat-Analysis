{
 "cells": [
  {
   "cell_type": "markdown",
   "id": "9efaf577",
   "metadata": {},
   "source": [
    "### Creating pandas data frame from text file"
   ]
  },
  {
   "cell_type": "markdown",
   "id": "020701f2",
   "metadata": {},
   "source": [
    "#### Importing required library"
   ]
  },
  {
   "cell_type": "code",
   "execution_count": 1,
   "id": "9fb5c972",
   "metadata": {},
   "outputs": [],
   "source": [
    "import re\n",
    "import pandas as pd"
   ]
  },
  {
   "cell_type": "markdown",
   "id": "8cb81312",
   "metadata": {},
   "source": [
    "#### Reading the file"
   ]
  },
  {
   "cell_type": "code",
   "execution_count": 2,
   "id": "0daf9d44",
   "metadata": {},
   "outputs": [],
   "source": [
    "file = open('dummyChat.txt', 'r', encoding='utf-8')"
   ]
  },
  {
   "cell_type": "code",
   "execution_count": 3,
   "id": "eb34883e",
   "metadata": {},
   "outputs": [
    {
     "name": "stdout",
     "output_type": "stream",
     "text": [
      "15/04/2016, 15:04 - You created group “Sample Group”\n",
      "06/08/2016, 13:18 - Messages you send to this group are now secured with end-to-end encryption. Tap for more info.\n",
      "06/08/2016, 13:23 - Ash Ketchum: Hey guys!\n",
      "06/08/2016, 13:25 - Brock: Hey Ash, good to have a common group!\n",
      "06/08/2016, 13:30 - Misty: Hey guys! Long time haven't heard anything from you\n",
      "06/08/2016, 13:45 - Ash Ketchum: Indeed. I think having a whatsapp group nowadays is a good idea\n",
      "06/08/2016, 14:30 - Misty: Definetly\n",
      "06/08/2016, 17:25 - Brock: I totally agree\n",
      "07/08/2016, 11:45 - Prof. Oak: Kids, shall I design a smart poke-ball?\n",
      "07/08/2016, 18:45 - Ash Ketchum: I don't mind Prof. I quitted capturing pokemon.\n",
      "07/08/2016, 18:56 - You added Wobbuffet\n",
      "07/08/2016, 19:30 - Misty: Was a great time, but had enough also.\n",
      "07/08/2016, 23:25 - Brock: Guys, I am still in the first gym. No one is playing pokemon, they went crazy with pokemon Go.\n",
      "07/08/2016, 23:56 - You added Jessie\n",
      "10/08/2016, 09:45 - Jessie: Hey, thanks for adding me. Wanna meet soon? Just for the old times.\n",
      "10/08/2016, 11:25 - Raichu: I am in!\n",
      "10/08/2016, 13:23 - Ash Ketchum: FFS, no way, Pikachu did you evolve?\n",
      "10/08/2016, 15:23 - Raichu: Yes... Weird to have a different body!\n",
      "11/08/2016, 19:30 - Misty: Gotta see that.\n",
      "11/08/2016, 20:56 - You added James\n",
      "10/08/2016, 09:45 - James: Hello, everyone!.\n",
      "11/09/2016, 20:25 - Meowth: Hey people, I was on holidays in Sinnoh. Crazy region.\n",
      "31/10/2016, 11:45 - Prof. Oak: Smart-pokeball is created.\n",
      "31/10/2016, 12:23 - Wobbuffet: Wo-bbu-ffet\n"
     ]
    }
   ],
   "source": [
    "## reading data from file\n",
    "data = file.read()\n",
    "\n",
    "## displaying data\n",
    "print(data)"
   ]
  },
  {
   "cell_type": "markdown",
   "id": "120a9324",
   "metadata": {},
   "source": [
    "#### Cleaning and processing the data"
   ]
  },
  {
   "cell_type": "code",
   "execution_count": 4,
   "id": "f80ad09a",
   "metadata": {},
   "outputs": [],
   "source": [
    "## pattern to seperate data and time\n",
    "pattern = '\\d{1,2}/\\d{1,2}/\\d{2,4},\\s\\d{1,2}:\\d{2}\\s-\\s'"
   ]
  },
  {
   "cell_type": "code",
   "execution_count": 5,
   "id": "fe07ae22",
   "metadata": {},
   "outputs": [
    {
     "data": {
      "text/plain": [
       "24"
      ]
     },
     "execution_count": 5,
     "metadata": {},
     "output_type": "execute_result"
    }
   ],
   "source": [
    "messages = re.split(pattern, data)[1:]\n",
    "len(messages)"
   ]
  },
  {
   "cell_type": "code",
   "execution_count": 6,
   "id": "995e316b",
   "metadata": {},
   "outputs": [
    {
     "data": {
      "text/plain": [
       "24"
      ]
     },
     "execution_count": 6,
     "metadata": {},
     "output_type": "execute_result"
    }
   ],
   "source": [
    "dates = re.findall(pattern, data)\n",
    "len(dates)"
   ]
  },
  {
   "cell_type": "code",
   "execution_count": 7,
   "id": "663c4457",
   "metadata": {},
   "outputs": [
    {
     "data": {
      "text/html": [
       "<div>\n",
       "<style scoped>\n",
       "    .dataframe tbody tr th:only-of-type {\n",
       "        vertical-align: middle;\n",
       "    }\n",
       "\n",
       "    .dataframe tbody tr th {\n",
       "        vertical-align: top;\n",
       "    }\n",
       "\n",
       "    .dataframe thead th {\n",
       "        text-align: right;\n",
       "    }\n",
       "</style>\n",
       "<table border=\"1\" class=\"dataframe\">\n",
       "  <thead>\n",
       "    <tr style=\"text-align: right;\">\n",
       "      <th></th>\n",
       "      <th>Message</th>\n",
       "      <th>Date</th>\n",
       "    </tr>\n",
       "  </thead>\n",
       "  <tbody>\n",
       "    <tr>\n",
       "      <th>0</th>\n",
       "      <td>You created group “Sample Group”\\n</td>\n",
       "      <td>2016-04-15 15:04:00</td>\n",
       "    </tr>\n",
       "    <tr>\n",
       "      <th>1</th>\n",
       "      <td>Messages you send to this group are now secure...</td>\n",
       "      <td>2016-08-06 13:18:00</td>\n",
       "    </tr>\n",
       "    <tr>\n",
       "      <th>2</th>\n",
       "      <td>Ash Ketchum: Hey guys!\\n</td>\n",
       "      <td>2016-08-06 13:23:00</td>\n",
       "    </tr>\n",
       "    <tr>\n",
       "      <th>3</th>\n",
       "      <td>Brock: Hey Ash, good to have a common group!\\n</td>\n",
       "      <td>2016-08-06 13:25:00</td>\n",
       "    </tr>\n",
       "    <tr>\n",
       "      <th>4</th>\n",
       "      <td>Misty: Hey guys! Long time haven't heard anyth...</td>\n",
       "      <td>2016-08-06 13:30:00</td>\n",
       "    </tr>\n",
       "  </tbody>\n",
       "</table>\n",
       "</div>"
      ],
      "text/plain": [
       "                                             Message                Date\n",
       "0                 You created group “Sample Group”\\n 2016-04-15 15:04:00\n",
       "1  Messages you send to this group are now secure... 2016-08-06 13:18:00\n",
       "2                           Ash Ketchum: Hey guys!\\n 2016-08-06 13:23:00\n",
       "3     Brock: Hey Ash, good to have a common group!\\n 2016-08-06 13:25:00\n",
       "4  Misty: Hey guys! Long time haven't heard anyth... 2016-08-06 13:30:00"
      ]
     },
     "execution_count": 7,
     "metadata": {},
     "output_type": "execute_result"
    }
   ],
   "source": [
    "df = pd.DataFrame({'Message':messages, 'Date':dates})\n",
    "\n",
    "## convert messages_data type\n",
    "df['Date'] = pd.to_datetime(df['Date'], format='%d/%m/%Y, %H:%M - ')\n",
    "\n",
    "## displaying data frame\n",
    "df.head()"
   ]
  },
  {
   "cell_type": "code",
   "execution_count": 8,
   "id": "e0ffe068",
   "metadata": {},
   "outputs": [
    {
     "data": {
      "text/html": [
       "<div>\n",
       "<style scoped>\n",
       "    .dataframe tbody tr th:only-of-type {\n",
       "        vertical-align: middle;\n",
       "    }\n",
       "\n",
       "    .dataframe tbody tr th {\n",
       "        vertical-align: top;\n",
       "    }\n",
       "\n",
       "    .dataframe thead th {\n",
       "        text-align: right;\n",
       "    }\n",
       "</style>\n",
       "<table border=\"1\" class=\"dataframe\">\n",
       "  <thead>\n",
       "    <tr style=\"text-align: right;\">\n",
       "      <th></th>\n",
       "      <th>Date</th>\n",
       "      <th>User</th>\n",
       "      <th>Message</th>\n",
       "    </tr>\n",
       "  </thead>\n",
       "  <tbody>\n",
       "    <tr>\n",
       "      <th>0</th>\n",
       "      <td>2016-04-15 15:04:00</td>\n",
       "      <td>Notification</td>\n",
       "      <td>You created group “Sample Group”</td>\n",
       "    </tr>\n",
       "    <tr>\n",
       "      <th>1</th>\n",
       "      <td>2016-08-06 13:18:00</td>\n",
       "      <td>Notification</td>\n",
       "      <td>Messages you send to this group are now secure...</td>\n",
       "    </tr>\n",
       "    <tr>\n",
       "      <th>2</th>\n",
       "      <td>2016-08-06 13:23:00</td>\n",
       "      <td>Ash Ketchum</td>\n",
       "      <td>Hey guys!</td>\n",
       "    </tr>\n",
       "    <tr>\n",
       "      <th>3</th>\n",
       "      <td>2016-08-06 13:25:00</td>\n",
       "      <td>Brock</td>\n",
       "      <td>Hey Ash, good to have a common group!</td>\n",
       "    </tr>\n",
       "    <tr>\n",
       "      <th>4</th>\n",
       "      <td>2016-08-06 13:30:00</td>\n",
       "      <td>Misty</td>\n",
       "      <td>Hey guys! Long time haven't heard anything fro...</td>\n",
       "    </tr>\n",
       "  </tbody>\n",
       "</table>\n",
       "</div>"
      ],
      "text/plain": [
       "                 Date          User  \\\n",
       "0 2016-04-15 15:04:00  Notification   \n",
       "1 2016-08-06 13:18:00  Notification   \n",
       "2 2016-08-06 13:23:00   Ash Ketchum   \n",
       "3 2016-08-06 13:25:00         Brock   \n",
       "4 2016-08-06 13:30:00         Misty   \n",
       "\n",
       "                                             Message  \n",
       "0                   You created group “Sample Group”  \n",
       "1  Messages you send to this group are now secure...  \n",
       "2                                          Hey guys!  \n",
       "3              Hey Ash, good to have a common group!  \n",
       "4  Hey guys! Long time haven't heard anything fro...  "
      ]
     },
     "execution_count": 8,
     "metadata": {},
     "output_type": "execute_result"
    }
   ],
   "source": [
    "## Separating user name and user message\n",
    "\n",
    "## list for user\n",
    "users = []\n",
    "## list for messages\n",
    "messages = []\n",
    "\n",
    "## iterating in messages\n",
    "for message in df['Message']:\n",
    "    ## splitting message with ':'\n",
    "    entry = re.split('([\\w\\W]+?):\\s', message)\n",
    "    \n",
    "    ## if it has value after ':'\n",
    "    if entry[1:]: # user name\n",
    "        ## appending users\n",
    "        users.append(entry[1])\n",
    "        ## appending message\n",
    "        messages.append(entry[2][:-1])\n",
    "    \n",
    "    ## if it does not have a user name\n",
    "    else:\n",
    "        ## appending name as 'Notification'\n",
    "        users.append('Notification')\n",
    "        ## appending message\n",
    "        messages.append(entry[0][:-1])\n",
    "        \n",
    "## dropping previous message column\n",
    "df.drop('Message', axis = 1, inplace=True)\n",
    "\n",
    "## adding user column with user names\n",
    "df['User'] = users\n",
    "## adding message column with just message\n",
    "df['Message'] = messages\n",
    "\n",
    "## displaying dataframe\n",
    "df.head()"
   ]
  },
  {
   "cell_type": "code",
   "execution_count": 9,
   "id": "f6c85e63",
   "metadata": {},
   "outputs": [],
   "source": [
    "## Separating Year, month, day, hour and minute from Date\n",
    "## and creating specific column\n",
    "df['Year'] = df['Date'].dt.year\n",
    "df['Month'] = df['Date'].dt.month_name()\n",
    "df['Day'] = df['Date'].dt.day\n",
    "df['Hour'] = df['Date'].dt.hour\n",
    "df['Minute'] = df['Date'].dt.minute"
   ]
  },
  {
   "cell_type": "code",
   "execution_count": 10,
   "id": "7caa0fa0",
   "metadata": {},
   "outputs": [
    {
     "data": {
      "text/html": [
       "<div>\n",
       "<style scoped>\n",
       "    .dataframe tbody tr th:only-of-type {\n",
       "        vertical-align: middle;\n",
       "    }\n",
       "\n",
       "    .dataframe tbody tr th {\n",
       "        vertical-align: top;\n",
       "    }\n",
       "\n",
       "    .dataframe thead th {\n",
       "        text-align: right;\n",
       "    }\n",
       "</style>\n",
       "<table border=\"1\" class=\"dataframe\">\n",
       "  <thead>\n",
       "    <tr style=\"text-align: right;\">\n",
       "      <th></th>\n",
       "      <th>Date</th>\n",
       "      <th>User</th>\n",
       "      <th>Message</th>\n",
       "      <th>Year</th>\n",
       "      <th>Month</th>\n",
       "      <th>Day</th>\n",
       "      <th>Hour</th>\n",
       "      <th>Minute</th>\n",
       "    </tr>\n",
       "  </thead>\n",
       "  <tbody>\n",
       "    <tr>\n",
       "      <th>0</th>\n",
       "      <td>2016-04-15 15:04:00</td>\n",
       "      <td>Notification</td>\n",
       "      <td>You created group “Sample Group”</td>\n",
       "      <td>2016</td>\n",
       "      <td>April</td>\n",
       "      <td>15</td>\n",
       "      <td>15</td>\n",
       "      <td>4</td>\n",
       "    </tr>\n",
       "    <tr>\n",
       "      <th>1</th>\n",
       "      <td>2016-08-06 13:18:00</td>\n",
       "      <td>Notification</td>\n",
       "      <td>Messages you send to this group are now secure...</td>\n",
       "      <td>2016</td>\n",
       "      <td>August</td>\n",
       "      <td>6</td>\n",
       "      <td>13</td>\n",
       "      <td>18</td>\n",
       "    </tr>\n",
       "    <tr>\n",
       "      <th>2</th>\n",
       "      <td>2016-08-06 13:23:00</td>\n",
       "      <td>Ash Ketchum</td>\n",
       "      <td>Hey guys!</td>\n",
       "      <td>2016</td>\n",
       "      <td>August</td>\n",
       "      <td>6</td>\n",
       "      <td>13</td>\n",
       "      <td>23</td>\n",
       "    </tr>\n",
       "    <tr>\n",
       "      <th>3</th>\n",
       "      <td>2016-08-06 13:25:00</td>\n",
       "      <td>Brock</td>\n",
       "      <td>Hey Ash, good to have a common group!</td>\n",
       "      <td>2016</td>\n",
       "      <td>August</td>\n",
       "      <td>6</td>\n",
       "      <td>13</td>\n",
       "      <td>25</td>\n",
       "    </tr>\n",
       "    <tr>\n",
       "      <th>4</th>\n",
       "      <td>2016-08-06 13:30:00</td>\n",
       "      <td>Misty</td>\n",
       "      <td>Hey guys! Long time haven't heard anything fro...</td>\n",
       "      <td>2016</td>\n",
       "      <td>August</td>\n",
       "      <td>6</td>\n",
       "      <td>13</td>\n",
       "      <td>30</td>\n",
       "    </tr>\n",
       "  </tbody>\n",
       "</table>\n",
       "</div>"
      ],
      "text/plain": [
       "                 Date          User  \\\n",
       "0 2016-04-15 15:04:00  Notification   \n",
       "1 2016-08-06 13:18:00  Notification   \n",
       "2 2016-08-06 13:23:00   Ash Ketchum   \n",
       "3 2016-08-06 13:25:00         Brock   \n",
       "4 2016-08-06 13:30:00         Misty   \n",
       "\n",
       "                                             Message  Year   Month  Day  Hour  \\\n",
       "0                   You created group “Sample Group”  2016   April   15    15   \n",
       "1  Messages you send to this group are now secure...  2016  August    6    13   \n",
       "2                                          Hey guys!  2016  August    6    13   \n",
       "3              Hey Ash, good to have a common group!  2016  August    6    13   \n",
       "4  Hey guys! Long time haven't heard anything fro...  2016  August    6    13   \n",
       "\n",
       "   Minute  \n",
       "0       4  \n",
       "1      18  \n",
       "2      23  \n",
       "3      25  \n",
       "4      30  "
      ]
     },
     "execution_count": 10,
     "metadata": {},
     "output_type": "execute_result"
    }
   ],
   "source": [
    "## displaying dataframe\n",
    "df.head()"
   ]
  }
 ],
 "metadata": {
  "kernelspec": {
   "display_name": "Python 3 (ipykernel)",
   "language": "python",
   "name": "python3"
  },
  "language_info": {
   "codemirror_mode": {
    "name": "ipython",
    "version": 3
   },
   "file_extension": ".py",
   "mimetype": "text/x-python",
   "name": "python",
   "nbconvert_exporter": "python",
   "pygments_lexer": "ipython3",
   "version": "3.10.6"
  }
 },
 "nbformat": 4,
 "nbformat_minor": 5
}
